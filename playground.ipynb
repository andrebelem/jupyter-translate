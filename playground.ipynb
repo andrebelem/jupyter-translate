{
 "cells": [
  {
   "cell_type": "code",
   "execution_count": 1,
   "id": "42c382c2-c242-407f-94b4-fa95e3df5737",
   "metadata": {},
   "outputs": [],
   "source": [
    "from teste import get_translator, safe_translate, translate_code_comments_and_prints, translate_markdown"
   ]
  },
  {
   "cell_type": "code",
   "execution_count": 4,
   "id": "37593858-de23-498e-a108-ddb4045e55c7",
   "metadata": {},
   "outputs": [],
   "source": [
    "text = \"\"\"Here is a blockquote:\n",
    "\n",
    "> Beautiful is better than ugly.\n",
    "> Explicit is better than implicit.\n",
    "> Simple is better than complex.\n",
    "> Complex is better than complicated.\n",
    "> Flat is better than nested.\n",
    "> Sparse is better than dense.\n",
    "> Readability counts.\n",
    "> Special cases aren't special enough to break the rules.\n",
    "> Although practicality beats purity.\n",
    "> Errors should never pass silently.\n",
    "> Unless explicitly silenced.\n",
    "> In the face of ambiguity, refuse the temptation to guess.\n",
    "> There should be one-- and preferably only one --obvious way to do it.\n",
    "> Although that way may not be obvious at first unless you're Dutch.\n",
    "> Now is better than never.\n",
    "> Although never is often better than *right* now.\n",
    "> If the implementation is hard to explain, it's a bad idea.\n",
    "> If the implementation is easy to explain, it may be a good idea.\n",
    "> Namespaces are one honking great idea -- let's do more of those!\n",
    "\"\"\"\n"
   ]
  },
  {
   "cell_type": "code",
   "execution_count": 5,
   "id": "20122cf3-d80a-468c-a09a-187720d1dc56",
   "metadata": {},
   "outputs": [
    {
     "data": {
      "text/plain": [
       "\"Here is a blockquote:\\n\\n> Beautiful is better than ugly.\\n> Explicit is better than implicit.\\n> Simple is better than complex.\\n> Complex is better than complicated.\\n> Flat is better than nested.\\n> Sparse is better than dense.\\n> Readability counts.\\n> Special cases aren't special enough to break the rules.\\n> Although practicality beats purity.\\n> Errors should never pass silently.\\n> Unless explicitly silenced.\\n> In the face of ambiguity, refuse the temptation to guess.\\n> There should be one-- and preferably only one --obvious way to do it.\\n> Although that way may not be obvious at first unless you're Dutch.\\n> Now is better than never.\\n> Although never is often better than *right* now.\\n> If the implementation is hard to explain, it's a bad idea.\\n> If the implementation is easy to explain, it may be a good idea.\\n> Namespaces are one honking great idea -- let's do more of those!\\n\""
      ]
     },
     "execution_count": 5,
     "metadata": {},
     "output_type": "execute_result"
    }
   ],
   "source": [
    "text"
   ]
  },
  {
   "cell_type": "code",
   "execution_count": 8,
   "id": "fd87268c-7c2a-4822-b7ee-f975fb10d1b4",
   "metadata": {},
   "outputs": [
    {
     "name": "stdout",
     "output_type": "stream",
     "text": [
      "Attempting to connect with Google translator...\n",
      "Successfully connected with Google translator.\n",
      "Using translator: Google\n"
     ]
    }
   ],
   "source": [
    "# Initialize the translator\n",
    "translator = get_translator('google', 'en', 'pt', True)"
   ]
  },
  {
   "cell_type": "code",
   "execution_count": 9,
   "id": "911be711-649b-4c07-8188-555e59408b03",
   "metadata": {},
   "outputs": [
    {
     "data": {
      "text/plain": [
       "'Aqui está um blockquote:\\n\\n> Bonito é melhor que feio.\\n> Explícito é melhor que implícito.\\n> Simples é melhor que complexo.\\n> Complexo é melhor que complicado.\\n> Plano é melhor que aninhado.\\n> Esparso é melhor que denso.\\n> Legibilidade conta.\\n> Casos especiais não são especiais o suficiente para quebrar as regras.\\n> Embora a praticidade vença a pureza.\\n> Erros nunca devem passar silenciosamente.\\n> A menos que explicitamente silenciados.\\n> Diante da ambiguidade, recuse a tentação de adivinhar.\\n> Deve haver uma — e de preferência apenas uma — maneira óbvia de fazer isso.\\n> Embora essa maneira possa não ser óbvia a princípio, a menos que você seja holandês.\\n> Agora é melhor que nunca.\\n> Embora nunca seja frequentemente melhor que *agora*.\\n> Se a implementação for difícil de explicar, é uma má ideia.\\n> Se a implementação for fácil de explicar, pode ser uma boa ideia.\\n> Namespaces são uma ótima ideia — vamos fazer mais disso!'"
      ]
     },
     "execution_count": 9,
     "metadata": {},
     "output_type": "execute_result"
    }
   ],
   "source": [
    "translate_markdown(text, translator, 10)"
   ]
  },
  {
   "cell_type": "code",
   "execution_count": 11,
   "id": "3151467f-1b50-46ce-b08c-2f1ed7fca77c",
   "metadata": {},
   "outputs": [
    {
     "name": "stdout",
     "output_type": "stream",
     "text": [
      "Aqui está uma citação:\n",
      "\n",
      "> Bonito é melhor que feio.\n",
      "> Explícito é melhor que implícito.\n",
      "> Simples é melhor que complexo.\n",
      "> Complexo é melhor que complicado.\n",
      "> Plano é melhor que aninhado.\n",
      "> Esparso é melhor que denso.\n",
      "> Contagens de legibilidade.\n",
      "> Casos especiais não são especiais o suficiente para quebrar as regras.\n",
      "> Embora a praticidade supere a pureza.\n",
      "> Os erros nunca devem passar silenciosamente.\n",
      "> A menos que seja explicitamente silenciado.\n",
      "> Diante da ambiguidade, recuse a tentação de adivinhar.\n",
      "> Deve haver uma - e de preferência apenas uma - maneira óbvia de fazer isso.\n",
      "> Embora esse caminho possa não ser óbvio à primeira vista, a menos que você seja holandês.\n",
      "> Agora é melhor do que nunca.\n",
      "> Embora nunca seja melhor do que *agora*.\n",
      "> Se a implementação for difícil de explicar, é uma má ideia.\n",
      "> Se a implementação for fácil de explicar, pode ser uma boa ideia.\n",
      "> Namespaces são uma ótima ideia - vamos fazer mais deles!\n"
     ]
    }
   ],
   "source": [
    "from googletrans import Translator\n",
    "\n",
    "translator = Translator()\n",
    "translated_text = translator.translate(text, dest='pt').text\n",
    "print(translated_text)"
   ]
  },
  {
   "cell_type": "code",
   "execution_count": null,
   "id": "91e14ad7-0a9a-4e35-8090-914b89d70e58",
   "metadata": {},
   "outputs": [],
   "source": []
  }
 ],
 "metadata": {
  "kernelspec": {
   "display_name": "Python 3 (ipykernel)",
   "language": "python",
   "name": "python3"
  },
  "language_info": {
   "codemirror_mode": {
    "name": "ipython",
    "version": 3
   },
   "file_extension": ".py",
   "mimetype": "text/x-python",
   "name": "python",
   "nbconvert_exporter": "python",
   "pygments_lexer": "ipython3",
   "version": "3.12.5"
  }
 },
 "nbformat": 4,
 "nbformat_minor": 5
}
